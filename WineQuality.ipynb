{
 "cells": [
  {
   "cell_type": "markdown",
   "metadata": {},
   "source": [
    "**IMPORT LIBRARIES**"
   ]
  },
  {
   "cell_type": "code",
   "execution_count": null,
   "metadata": {},
   "outputs": [],
   "source": [
    "import pandas as pd\n",
    "\n",
    "from plotly.offline import plot, iplot, init_notebook_mode\n",
    "from plotly.subplots import make_subplots\n",
    "import plotly.graph_objects as go\n",
    "import plotly.express as px\n",
    "init_notebook_mode(connected=True)\n",
    "import plotly.io as pio\n",
    "import plotly.figure_factory as ff\n",
    "\n",
    "import matplotlib.pyplot as plt\n",
    "import numpy as np\n",
    "\n",
    "from sklearn import preprocessing\n",
    "\n",
    "from sklearn.feature_selection import SelectKBest\n",
    "from sklearn.feature_selection import f_classif\n",
    "from sklearn.feature_selection import chi2\n",
    "import seaborn as sns\n",
    "\n",
    "from sklearn.decomposition import PCA\n",
    "\n",
    "from sklearn.model_selection import train_test_split\n",
    "\n",
    "from sklearn.svm import SVC\n",
    "from sklearn.metrics import accuracy_score\n",
    "from sklearn.metrics import confusion_matrix\n",
    "\n",
    "from sklearn.svm import SVR"
   ]
  },
  {
   "cell_type": "code",
   "execution_count": null,
   "metadata": {},
   "outputs": [],
   "source": [
    "from matplotlib.colors import ListedColormap\n",
    "from matplotlib.lines import Line2D\n",
    "def PlotBoundary(clf,X,y,X_v,y_v,meta):\n",
    "    \n",
    "    cmap_light = ListedColormap(['#FFAAAA', '#ABE3FF', '#ccffcc'])\n",
    "    cmap_bold = ListedColormap(['#ff575d','#57b1ff','#57ffa5'])\n",
    "    \n",
    "    h = 0.03\n",
    "    offset_x = 0.3\n",
    "    offset_y = 0.5\n",
    "    \n",
    "    x_min, x_max = X[:, 0].min() - offset_x, X[:, 0].max() + offset_x\n",
    "    y_min, y_max = X[:, 1].min() - offset_y, X[:, 1].max() + offset_y\n",
    "    xx, yy = np.meshgrid( np.arange(x_min, x_max, h), np.arange(y_min, y_max, h) )\n",
    "    Z = clf.predict(np.c_[xx.ravel(), yy.ravel()])\n",
    "    \n",
    "    Z = Z.reshape(xx.shape)\n",
    "    plt.figure()\n",
    "    ax = plt.subplot(111)\n",
    "    plt.pcolormesh(xx, yy, Z, cmap=cmap_light)\n",
    "    \n",
    "    size = 40\n",
    "    plt.scatter(X[:, 0], X[:, 1],s=size, c=y, cmap=cmap_bold, label='Train')\n",
    "    plt.scatter(X_v[:, 0], X_v[:, 1],s=size, c=y_v, cmap=cmap_bold, edgecolors='black', linewidth=0.7, label='Test/Validation')\n",
    "    plt.xlim(xx.min(), xx.max())\n",
    "    plt.ylim(yy.min(), yy.max())\n",
    "\n",
    "    legend_elements = [Line2D([0], [0], marker='o', color='w', label='Train', markerfacecolor='#00FF00', markersize=10),\n",
    "                       Line2D([0], [0], marker='o', color='w', label='Test/Validation', markerfacecolor='#00FF00', markersize=8, markeredgecolor='black', markeredgewidth=1) ]\n",
    "    \n",
    "    plt.legend(loc=(1.04,0.8),fontsize=12,handles=legend_elements)\n",
    "    plt.title(f\"{meta}\")\n",
    "\n",
    "    plt.show()"
   ]
  },
  {
   "cell_type": "markdown",
   "metadata": {},
   "source": [
    "**Load Datasets**"
   ]
  },
  {
   "cell_type": "code",
   "execution_count": null,
   "metadata": {},
   "outputs": [],
   "source": [
    "white_df = pd.read_csv('winequality-white.csv', sep=';')\n",
    "red_df = pd.read_csv('winequality-red.csv', sep=';')"
   ]
  },
  {
   "cell_type": "markdown",
   "metadata": {},
   "source": [
    "**Data Exploration**"
   ]
  },
  {
   "cell_type": "code",
   "execution_count": null,
   "metadata": {},
   "outputs": [],
   "source": [
    "print('Length:')\n",
    "print('White:')\n",
    "print(white_df.shape)\n",
    "print('--- --- ---')\n",
    "print('Red:')\n",
    "print(red_df.shape)"
   ]
  },
  {
   "cell_type": "code",
   "execution_count": null,
   "metadata": {},
   "outputs": [],
   "source": [
    "print('Description:')\n",
    "print('White:')\n",
    "print(white_df.describe())\n",
    "print('--- --- ---')\n",
    "print('Red:')\n",
    "print(red_df.describe())"
   ]
  },
  {
   "cell_type": "code",
   "execution_count": null,
   "metadata": {},
   "outputs": [],
   "source": [
    "print('Null Values:')\n",
    "print('White:')\n",
    "print(white_df.isnull().sum())\n",
    "print('--- --- ---')\n",
    "print('Red:')\n",
    "print(red_df.isnull().sum())"
   ]
  },
  {
   "cell_type": "code",
   "execution_count": null,
   "metadata": {},
   "outputs": [],
   "source": [
    "#An example of duplicates\n",
    "print(white_df.iloc[3])\n",
    "print(white_df.iloc[4])"
   ]
  },
  {
   "cell_type": "code",
   "execution_count": null,
   "metadata": {},
   "outputs": [],
   "source": [
    "print('Duplicates:')\n",
    "print('White:')\n",
    "print(white_df.duplicated().sum())\n",
    "print('--- --- ---')\n",
    "print('Red:')\n",
    "print(red_df.duplicated().sum())\n",
    "white_df.drop_duplicates(keep = 'first', inplace = True) \n",
    "red_df.drop_duplicates(keep = 'first', inplace = True) "
   ]
  },
  {
   "cell_type": "code",
   "execution_count": null,
   "metadata": {},
   "outputs": [],
   "source": [
    "colors = {0:'#a9a9a9', 1:'#f032e6', 2:'#911eb4', 3:'#4363d8', 4:'#42d4f4', 5:'#3cb44b',6:'#bfef45',7:'#ffe119',8:'#f58231',9:'#e6194B', 10:'#469990'}\n",
    "colors_cat = {'low':'red', 'medium':'green', 'high':'blue'}\n",
    "\n",
    "def PieBarChart(df,col='quality',meta=''):\n",
    "    dict_ = df[col].value_counts()\n",
    "    \n",
    "    newDict = dict(sorted(filter(lambda elem: elem[1]  > 0, dict_.items())))\n",
    "    if(col=='quality'):\n",
    "        newcolors = dict(filter(lambda elem: elem[0] in newDict.keys(), colors.items()))\n",
    "    else:\n",
    "        newcolors = colors_cat\n",
    "    \n",
    "    fig = make_subplots(rows=1, cols=2, subplot_titles=['Pie Chart','Bar Chart'], specs=[[{'type':'domain'}, {'type':'bar'}]])\n",
    "    \n",
    "    pie = go.Pie( labels=list(newDict.keys()), values=list(newDict.values()),\n",
    "                 marker_colors=list(newcolors.values()),sort=True, showlegend=False)\n",
    "    fig.add_trace(pie, row=1, col=1)\n",
    "    fig.update_traces( hoverinfo='value', textinfo='label+percent',\n",
    "                      marker=dict( colors=list(newcolors.values()) ) )\n",
    "    \n",
    "    bar = go.Bar( x=list(newDict.keys()), y=list(newDict.values()),\n",
    "                 text=list(newDict.values()), textposition='auto', marker_color=list(newcolors.values()), showlegend=False )\n",
    "    \n",
    "    fig.add_trace(bar, row=1, col=2)\n",
    "    if(col!='quality'):\n",
    "        fig.update_layout(barmode='stack', xaxis={'categoryorder':'array', 'categoryarray':['low','medium','high']})\n",
    "    \n",
    "    fig.update_xaxes(title_text=\"Quality\", row=1, col=2)\n",
    "    fig.update_yaxes(title_text=\"# of Samples\", row=1, col=2)\n",
    "    \n",
    "    fig.update_layout(title_text=meta, showlegend=True, legend_title_text='Quality')\n",
    "    \n",
    "    fig.show()\n",
    "    pio.write_html(fig, file='Images/'+meta+'.html', auto_open=False)"
   ]
  },
  {
   "cell_type": "code",
   "execution_count": null,
   "metadata": {},
   "outputs": [],
   "source": [
    "PieBarChart(white_df,meta='White Wine')"
   ]
  },
  {
   "cell_type": "code",
   "execution_count": null,
   "metadata": {},
   "outputs": [],
   "source": [
    "PieBarChart(red_df,meta='Red Wine')"
   ]
  },
  {
   "cell_type": "code",
   "execution_count": null,
   "metadata": {},
   "outputs": [],
   "source": [
    "#Wine Statistics\n",
    "white_df['type'] = ['white'] * white_df.shape[0]\n",
    "red_df['type'] = ['red'] * red_df.shape[0]\n",
    "wines = pd.concat([white_df,red_df])\n",
    "wines.reset_index(drop=True,inplace=True)\n",
    "\n",
    "attributes = wines.columns\n",
    "rs = round(wines.loc[wines.type == 'red', attributes].describe(),2)\n",
    "ws = round(wines.loc[wines.type == 'white', attributes].describe(),2)\n",
    "pd.concat([rs, ws], axis=0, keys=['Red Wine Statistics', 'White Wine Statistics']).T"
   ]
  },
  {
   "cell_type": "code",
   "execution_count": null,
   "metadata": {},
   "outputs": [],
   "source": [
    "#Classification [low,medium,high]\n",
    "from sklearn import preprocessing\n",
    "bins = (2,4,6,10)\n",
    "cat_names = ['low', 'medium', 'high']\n",
    "wines['labels'] = pd.cut(wines['quality'], bins=bins, labels=cat_names)\n",
    "\n",
    "subset_attributes = ['alcohol','pH']\n",
    "ls = round(wines[wines['labels'] == 'low'][subset_attributes].describe(),2)\n",
    "ms = round(wines[wines['labels'] == 'medium'][subset_attributes].describe(),2)\n",
    "hs = round(wines[wines['labels'] == 'high'][subset_attributes].describe(),2)\n",
    "pd.concat([ls, ms, hs], axis=0, keys=['Low Quality Wine', 'Medium Quality Wine', 'High Quality Wine']).T\n",
    "\n"
   ]
  },
  {
   "cell_type": "code",
   "execution_count": null,
   "metadata": {},
   "outputs": [],
   "source": [
    "def BoxPlot(df):\n",
    "    fig = go.Figure()\n",
    "    for i in df.columns:\n",
    "        fig.add_trace(go.Box(y=df[i],name=i))\n",
    "    fig.show()"
   ]
  },
  {
   "cell_type": "code",
   "execution_count": null,
   "metadata": {},
   "outputs": [],
   "source": [
    "BoxPlot(white_df.iloc[:,:-2])"
   ]
  },
  {
   "cell_type": "code",
   "execution_count": null,
   "metadata": {},
   "outputs": [],
   "source": [
    "def Normalize(df):\n",
    "    X = df.iloc[:,:-1]\n",
    "    y = df['quality']\n",
    "\n",
    "    x = X.values #returns a numpy array\n",
    "    min_max_scaler = preprocessing.MinMaxScaler() #StandardScaler\n",
    "    x_scaled = min_max_scaler.fit_transform(x)\n",
    "    new_df = pd.DataFrame(x_scaled, columns=X.columns)\n",
    "\n",
    "\n",
    "    new_df['quality'] = y.values\n",
    "    return new_df"
   ]
  },
  {
   "cell_type": "code",
   "execution_count": null,
   "metadata": {},
   "outputs": [],
   "source": [
    "normalized_df = Normalize(white_df)"
   ]
  },
  {
   "cell_type": "code",
   "execution_count": null,
   "metadata": {},
   "outputs": [],
   "source": [
    "BoxPlot(normalized_df.iloc[:,:-2])"
   ]
  },
  {
   "cell_type": "code",
   "execution_count": null,
   "metadata": {},
   "outputs": [],
   "source": [
    "for i in white_df.columns:\n",
    "    counts = dict(white_df[i].value_counts())\n",
    "\n",
    "    fig = go.Figure( go.Bar( x=list(counts.keys()), y=list(counts.values()) ) )\n",
    "    #fig.update_layout(yaxis_type=\"log\")\n",
    "    fig.update_layout(title_text=i)\n",
    "    fig.show()"
   ]
  },
  {
   "cell_type": "code",
   "execution_count": null,
   "metadata": {},
   "outputs": [],
   "source": [
    "sns.pairplot(white_df)\n",
    "plt.show()"
   ]
  },
  {
   "cell_type": "code",
   "execution_count": null,
   "metadata": {},
   "outputs": [],
   "source": [
    "def RemoveOutliers(df):\n",
    "    new_df = df.iloc[:,:-1]\n",
    "    y = df['quality']\n",
    "    \n",
    "    for i in new_df.columns:\n",
    "        Q1 = new_df[i].quantile(0.25)\n",
    "        Q3  = new_df[i].quantile(0.75)\n",
    "        '''\n",
    "        if (i=='volatile acidity'):\n",
    "            Q3 = 0.2255\n",
    "        elif (i=='citric acid'):\n",
    "            Q3 = 0.22289\n",
    "        elif (i=='free sulfur dioxide'):\n",
    "            Q3 = 0.14982\n",
    "        elif (i=='pH'):\n",
    "            Q3 = 0.5091\n",
    "        '''\n",
    "        IQR = Q3 - Q1    #IQR is interquartile range. \n",
    "\n",
    "        '''\n",
    "        print(i)\n",
    "        print('Q1 {} Q3 {}'.format(Q1,Q3))\n",
    "        print(IQR * 1.5)\n",
    "        print('Min {} max {}'.format(Q1 - 1.5 * IQR, Q3 + 1.5 * IQR))\n",
    "        print()\n",
    "        '''\n",
    "        new_df = new_df[(new_df[i] >= Q1 - 1.5 * IQR) & (new_df[i] <= Q3 + 1.5 * IQR )]\n",
    "    \n",
    "    y_filtered = []\n",
    "    for i in new_df.index:\n",
    "        y_filtered.append(y[i])\n",
    "\n",
    "    new_df['quality'] = y_filtered\n",
    "    new_df = new_df.reset_index(drop=True)\n",
    "    print('Old ', df.shape)\n",
    "    print('New ', new_df.shape)\n",
    "    print('Ratio {:.4}'.format( (df.shape[0]-new_df.shape[0])/df.shape[0] ))\n",
    "    \n",
    "    return new_df"
   ]
  },
  {
   "cell_type": "code",
   "execution_count": null,
   "metadata": {},
   "outputs": [],
   "source": [
    "filtered_df = RemoveOutliers(normalized_df)"
   ]
  },
  {
   "cell_type": "code",
   "execution_count": null,
   "metadata": {},
   "outputs": [],
   "source": [
    "PieBarChart(white_df,meta='White Wine')"
   ]
  },
  {
   "cell_type": "code",
   "execution_count": null,
   "metadata": {},
   "outputs": [],
   "source": [
    "PieBarChart(filtered_df,col='quality',meta='White Wine Filtered')"
   ]
  },
  {
   "cell_type": "code",
   "execution_count": null,
   "metadata": {},
   "outputs": [],
   "source": [
    "BoxPlot(filtered_df.iloc[:,:-1])"
   ]
  },
  {
   "cell_type": "code",
   "execution_count": null,
   "metadata": {},
   "outputs": [],
   "source": [
    "df_ = white_df\n",
    "df_ = filtered_df\n",
    "\n",
    "data = df_.iloc[:,0:-1]\n",
    "target = df_.iloc[:,-1]\n",
    "\n",
    "bestfeatures = SelectKBest(score_func=f_classif, k=2)\n",
    "fit = bestfeatures.fit(data,np.ravel(target))\n",
    "dfscores = pd.DataFrame(fit.scores_)\n",
    "dfcolumns = pd.DataFrame(data.columns)\n",
    "featureScores = pd.concat([dfcolumns,dfscores],axis=1)\n",
    "featureScores.columns = ['Specs','Score']\n",
    "print(featureScores.nlargest(10,'Score'))\n",
    "\n",
    "#Using Pearson Correlation\n",
    "corrmat = data.corr()\n",
    "top_corr_features = corrmat.index\n",
    "plt.figure(figsize=(10,10))\n",
    "#plot heat map\n",
    "g=sns.heatmap(data[top_corr_features].corr(),annot=True,cmap=\"RdYlGn\")\n",
    "plt.show()"
   ]
  },
  {
   "cell_type": "code",
   "execution_count": null,
   "metadata": {},
   "outputs": [],
   "source": [
    "def ScatterPlot(df_,items=[]):\n",
    "    fig = go.Figure()\n",
    "\n",
    "    for i in items:\n",
    "        df_qual = df_[(df_.iloc[:,-1] == i)]\n",
    "        if(len(df_qual)!=0):\n",
    "            x = df_qual.iloc[:,0]\n",
    "            y = df_qual.iloc[:,1]\n",
    "            if(isinstance(items[0], int)):\n",
    "                color = [colors[i]] * len(df_qual)\n",
    "            else:\n",
    "                color = [colors_cat[i]] * len(df_qual)\n",
    "            fig.add_trace(go.Scattergl(x=x, y=y, mode='markers', name=i ))\n",
    "            #fig = px.scatter(df, x=x, y=y, marginal_y=\"rug\", marginal_x=\"histogram\")\n",
    "            \n",
    "    #fig.update_layout( xaxis_type=\"log\", yaxis_type=\"log\")\n",
    "    fig.show()"
   ]
  },
  {
   "cell_type": "code",
   "execution_count": null,
   "metadata": {
    "scrolled": true
   },
   "outputs": [],
   "source": [
    "for i in range(0,11):\n",
    "    for j in range(0,11):\n",
    "        ScatterPlot(white_df.iloc[:,[i,j,-2]],range(0,11))"
   ]
  },
  {
   "cell_type": "code",
   "execution_count": null,
   "metadata": {},
   "outputs": [],
   "source": [
    "ScatterPlot(filtered_df.iloc[:,[7,10,-1]],range(0,11))"
   ]
  },
  {
   "cell_type": "code",
   "execution_count": null,
   "metadata": {},
   "outputs": [],
   "source": [
    "import plotly.express as px\n",
    "def ScatterPlot3D(df_,xname,yname,zname):\n",
    "    x = xname\n",
    "    y = yname\n",
    "    z = zname\n",
    "    color = 'quality'\n",
    "    size = [1] * len(df_)\n",
    "    fig = px.scatter_3d(df_,x=x, y=y, z=z, color=color, size=size)\n",
    "    fig.show()\n"
   ]
  },
  {
   "cell_type": "code",
   "execution_count": null,
   "metadata": {},
   "outputs": [],
   "source": [
    "ScatterPlot3D(filtered_df,'','','')"
   ]
  },
  {
   "cell_type": "code",
   "execution_count": null,
   "metadata": {},
   "outputs": [],
   "source": [
    "df_ = filtered_df\n",
    "data = df_.iloc[:,:-1]\n",
    "target = df_['quality']\n",
    "\n",
    "n = 3\n",
    "pca = PCA(n_components=n)\n",
    "principalComponents = pca.fit_transform(data)\n",
    "columns = ['principal component' + str(i+1) for i in range(n)]\n",
    "principalDf = pd.DataFrame(data = principalComponents\n",
    "             , columns = columns)\n",
    "\n",
    "print ( \"Components = \",pca.n_components_, \"; Total explained variance =\", round(pca.explained_variance_ratio_.sum(),5)  )\n",
    "principalDf['quality'] = target"
   ]
  },
  {
   "cell_type": "code",
   "execution_count": null,
   "metadata": {},
   "outputs": [],
   "source": [
    "ScatterPlot3D(principalDf,columns[0],columns[1],columns[2])"
   ]
  },
  {
   "cell_type": "code",
   "execution_count": null,
   "metadata": {},
   "outputs": [],
   "source": [
    "def SplitDataset(df,columns=[], size=0.2):\n",
    "    data = np.array(df.iloc[:,columns])\n",
    "    target = df.iloc[:,-1]\n",
    "    X_train, X_test, y_train, y_test = train_test_split(data, target, test_size=size, random_state=2)\n",
    "    y_train = list(y_train)\n",
    "    y_test = list(y_test)\n",
    "    return X_train, X_test, y_train, y_test"
   ]
  },
  {
   "cell_type": "code",
   "execution_count": null,
   "metadata": {},
   "outputs": [],
   "source": [
    "X_train, X_test, y_train, y_test = SplitDataset(filtered_df,[7,10])"
   ]
  },
  {
   "cell_type": "code",
   "execution_count": null,
   "metadata": {},
   "outputs": [],
   "source": [
    "def Train(model):\n",
    "    model.fit(X_train, y_train)\n",
    "\n",
    "    y_pred = model.predict(X_test)\n",
    "    \n",
    "    accuracy = accuracy_score(y_test, y_pred)\n",
    "    return accuracy, y_pred"
   ]
  },
  {
   "cell_type": "code",
   "execution_count": null,
   "metadata": {},
   "outputs": [],
   "source": [
    "def SVM(best_c=-1,best_g=-1):\n",
    "    if(best_c==-1 or best_g==-1):\n",
    "        C = [0.01, 0.1, 1, 10, 100]\n",
    "        gamma = [0.01, 0.1, 1, 10, 100]\n",
    "        score_svm = {}\n",
    "        for c in C:\n",
    "            for g in gamma:\n",
    "                print(c,g)\n",
    "                RBFsvm = SVC(kernel='rbf', C=c, gamma=g, random_state=0)\n",
    "\n",
    "                accuracy, _ = Train(RBFsvm)\n",
    "                \n",
    "                score_svm[(c,g)] = accuracy\n",
    "                print(f\"#Accuracy: {accuracy:.9f}\")\n",
    "                print()\n",
    "\n",
    "        values = np.reshape(list(score_svm.values()),(len(C),len(gamma)))\n",
    "        pd_scores = pd.DataFrame(values, index=C, columns=gamma)\n",
    "        sns.heatmap(pd_scores, vmin=0, vmax=1, linewidths=.1, annot=True,xticklabels='auto', yticklabels='auto')\n",
    "        plt.xlabel(\"Gammma\")\n",
    "        plt.ylabel(\"C\")\n",
    "        \n",
    "    else:\n",
    "        RBFsvm = SVC(kernel='rbf', C=best_c, gamma=best_g, random_state=0)\n",
    "\n",
    "        accuracy, y_pred = Train(RBFsvm)\n",
    "        \n",
    "        print(f\"#Accuracy: {accuracy:.5f}\")\n",
    "        print(confusion_matrix(y_test,y_pred))"
   ]
  },
  {
   "cell_type": "code",
   "execution_count": null,
   "metadata": {},
   "outputs": [],
   "source": [
    "SVM()"
   ]
  },
  {
   "cell_type": "code",
   "execution_count": null,
   "metadata": {},
   "outputs": [],
   "source": [
    "best_c = 1\n",
    "best_g = 10"
   ]
  },
  {
   "cell_type": "code",
   "execution_count": null,
   "metadata": {},
   "outputs": [],
   "source": [
    "SVM(best_c,best_g)"
   ]
  },
  {
   "cell_type": "code",
   "execution_count": null,
   "metadata": {},
   "outputs": [],
   "source": [
    "svr = SVR(kernel='rbf', C=best_c, gamma=best_g)\n",
    "\n",
    "svr.fit(X_train, y_train)\n",
    "\n",
    "y_pred = svr.predict(X_test)\n",
    "\n",
    "T = 0\n",
    "new_y = []\n",
    "count = 0\n",
    "\n",
    "for i in range(len(y_pred)):\n",
    "    diff = abs( y_pred[i]-y_test[i] )\n",
    "    if(diff<=T):\n",
    "        count += 1\n",
    "        #print('Predicted {:.6}, Real {}, diff {:.6} {}'.format(y_pred[i],y_test[i],diff,diff<=T ))\n",
    "        new_y.append(y_test[i])\n",
    "    else:\n",
    "        #print('WRONG--- Predicted {:.6}, Real {}, diff {:.6} NEW {} {}'.format( y_pred[i],y_test[i],diff,round(y_pred[i]),diff<=T ))\n",
    "        new_y.append(round(y_pred[i]))\n",
    "    \n",
    "from sklearn.metrics import mean_absolute_error\n",
    "MAD = mean_absolute_error(y_test, new_y)\n",
    "\n",
    "from sklearn.metrics import r2_score\n",
    "r2 = r2_score(y_test, new_y)\n",
    "\n",
    "print(f\"#Accuracy: {accuracy_score(y_test, new_y):.5f}\")\n",
    "print(confusion_matrix(y_test,new_y))\n",
    "print(set(new_y))\n",
    "print(set(y_test))\n",
    "print(count)\n",
    "print(MAD)\n",
    "print(r2)\n",
    "\n",
    "\n",
    "values = confusion_matrix(y_test,new_y)\n",
    "pd_scores = pd.DataFrame(values)\n",
    "_ = sns.heatmap(pd_scores, vmin=0, vmax=50, linewidths=.1, annot=True,xticklabels='auto', yticklabels='auto')\n",
    "\n",
    "print()\n",
    "print()"
   ]
  },
  {
   "cell_type": "code",
   "execution_count": null,
   "metadata": {},
   "outputs": [],
   "source": [
    "from sklearn.linear_model import LinearRegression\n",
    "from sklearn.preprocessing import PolynomialFeatures\n",
    "\n",
    "x = X_train\n",
    "y = y_train\n",
    "\n",
    "for i in range(2,20):\n",
    "    print(i)\n",
    "    transformer = PolynomialFeatures(degree=i, include_bias=True)\n",
    "    transformer.fit(x)\n",
    "    x_ = transformer.transform(x)\n",
    "    x_ = PolynomialFeatures(degree=2, include_bias=False).fit_transform(x)\n",
    "\n",
    "    model = LinearRegression().fit(x_, y)\n",
    "    y_pred = model.predict(x_)\n",
    "    r_sq = model.score(x_, y)\n",
    "\n",
    "    T=0.5\n",
    "    for i in range(len(y_pred)):\n",
    "        if(abs(y_pred[i]-y[i])<=T):\n",
    "            y_pred[i] = y[i]\n",
    "        else:\n",
    "            y_pred[i] = round(y_pred[i])\n",
    "\n",
    "    print(f\"#Accuracy: {accuracy_score(y, y_pred):.5f}\")\n",
    "    print(confusion_matrix(y,y_pred))\n",
    "    print(set(y_pred))\n",
    "    print()"
   ]
  },
  {
   "cell_type": "code",
   "execution_count": null,
   "metadata": {},
   "outputs": [],
   "source": [
    "#Classification [low,medium,high]\n",
    "from sklearn import preprocessing\n",
    "df_ = white_df\n",
    "bins = (2,4,6,10)\n",
    "cat_names = ['low', 'medium', 'high']\n",
    "df_['labels'] = pd.cut(df_['quality'], bins=bins, labels=cat_names)"
   ]
  },
  {
   "cell_type": "code",
   "execution_count": null,
   "metadata": {},
   "outputs": [],
   "source": [
    "df_['labels'] = pd.cut(df_['quality'], bins=bins)\n",
    "df_[['quality','labels']].head(50)"
   ]
  },
  {
   "cell_type": "code",
   "execution_count": null,
   "metadata": {},
   "outputs": [],
   "source": [
    "PieBarChart(df_,col='labels')"
   ]
  },
  {
   "cell_type": "code",
   "execution_count": null,
   "metadata": {},
   "outputs": [],
   "source": [
    "ScatterPlot(df_.iloc[:,[4,7,-1]],['low','medium','high'])"
   ]
  },
  {
   "cell_type": "code",
   "execution_count": null,
   "metadata": {},
   "outputs": [],
   "source": [
    "X_train, X_test, y_train, y_test = SplitDataset(df_,[7,10])"
   ]
  },
  {
   "cell_type": "code",
   "execution_count": null,
   "metadata": {},
   "outputs": [],
   "source": [
    "SVM()"
   ]
  },
  {
   "cell_type": "code",
   "execution_count": null,
   "metadata": {},
   "outputs": [],
   "source": [
    "best_c = 1\n",
    "best_g = 10\n",
    "SVM(best_c,best_g)"
   ]
  },
  {
   "cell_type": "code",
   "execution_count": null,
   "metadata": {},
   "outputs": [],
   "source": [
    "from sklearn.neighbors import KNeighborsClassifier\n",
    "\n",
    "K = [1,3,5,7]\n",
    "K_ext = [1,2,3,4,5,6,7,9,15,30,60,88]\n",
    "accuracy = dict()\n",
    "for k in K:\n",
    "    nbr = KNeighborsClassifier(n_neighbors=k)\n",
    "    \n",
    "    meta = \"KNN, K=\" + str(k)\n",
    "    acc = Train(nbr)\n",
    "    \n",
    "    accuracy[k] = acc\n",
    "    print(f'k={k} accuracy={acc:5f}')"
   ]
  },
  {
   "cell_type": "code",
   "execution_count": null,
   "metadata": {},
   "outputs": [],
   "source": [
    "from sklearn.ensemble import RandomForestClassifier\n",
    "\n",
    "# train model\n",
    "rfc = RandomForestClassifier(n_estimators=100)\n",
    "acc = Train(rfc)\n",
    "    \n",
    "print(f'accuracy={acc:5f}')"
   ]
  },
  {
   "cell_type": "code",
   "execution_count": null,
   "metadata": {},
   "outputs": [],
   "source": []
  },
  {
   "cell_type": "code",
   "execution_count": null,
   "metadata": {},
   "outputs": [],
   "source": []
  },
  {
   "cell_type": "code",
   "execution_count": null,
   "metadata": {},
   "outputs": [],
   "source": []
  },
  {
   "cell_type": "code",
   "execution_count": null,
   "metadata": {},
   "outputs": [],
   "source": []
  },
  {
   "cell_type": "code",
   "execution_count": null,
   "metadata": {},
   "outputs": [],
   "source": []
  },
  {
   "cell_type": "code",
   "execution_count": null,
   "metadata": {},
   "outputs": [],
   "source": []
  },
  {
   "cell_type": "code",
   "execution_count": null,
   "metadata": {},
   "outputs": [],
   "source": []
  },
  {
   "cell_type": "code",
   "execution_count": null,
   "metadata": {},
   "outputs": [],
   "source": []
  },
  {
   "cell_type": "code",
   "execution_count": null,
   "metadata": {},
   "outputs": [],
   "source": []
  },
  {
   "cell_type": "code",
   "execution_count": null,
   "metadata": {},
   "outputs": [],
   "source": []
  },
  {
   "cell_type": "code",
   "execution_count": null,
   "metadata": {},
   "outputs": [],
   "source": []
  },
  {
   "cell_type": "code",
   "execution_count": null,
   "metadata": {},
   "outputs": [],
   "source": []
  },
  {
   "cell_type": "code",
   "execution_count": null,
   "metadata": {},
   "outputs": [],
   "source": []
  },
  {
   "cell_type": "code",
   "execution_count": null,
   "metadata": {},
   "outputs": [],
   "source": []
  },
  {
   "cell_type": "code",
   "execution_count": null,
   "metadata": {},
   "outputs": [],
   "source": []
  },
  {
   "cell_type": "code",
   "execution_count": null,
   "metadata": {},
   "outputs": [],
   "source": [
    "white_df.hist()"
   ]
  },
  {
   "cell_type": "code",
   "execution_count": null,
   "metadata": {},
   "outputs": [],
   "source": [
    "#Must merge data\n",
    "sns.set(font_scale=1.0)\n",
    "g = sns.pairplot(data = wines, hue='type', palette={'red': '#FF9999', 'white': '#FFE888'},plot_kws=dict(edgecolor='black', linewidth=0.5))\n",
    "fig = g.fig \n",
    "fig.subplots_adjust(top=0.96, wspace=0.2)\n",
    "t = fig.suptitle('Wine Attributes Pairwise Plots by Types', fontsize=24)\n",
    "plt.show()"
   ]
  },
  {
   "cell_type": "code",
   "execution_count": null,
   "metadata": {},
   "outputs": [],
   "source": [
    "from matplotlib.colors import ListedColormap\n",
    "from matplotlib.lines import Line2D\n",
    "def PlotBoundary(model,X,y):#,X_v,y_v,meta\n",
    "    \n",
    "    cmap_light = ListedColormap(['#FFAAAA', '#ABE3FF', '#ccffcc'])\n",
    "    cmap_bold = ListedColormap(['#ff575d','#57b1ff','#57ffa5'])\n",
    "    \n",
    "    h = 0.03\n",
    "    offset_x = 0.3\n",
    "    offset_y = 0.5\n",
    "    \n",
    "    x_min, x_max = X[:, 0].min() - offset_x, X[:, 0].max() + offset_x\n",
    "    y_min, y_max = X[:, 1].min() - offset_y, X[:, 1].max() + offset_y\n",
    "    xx, yy = np.meshgrid( np.arange(x_min, x_max, h), np.arange(y_min, y_max, h) )\n",
    "    y_ = np.arange(y_min, y_max, h)\n",
    "    \n",
    "    fig = make_subplots(rows=1, cols=2, subplot_titles=\"Random Forest (Depth = 50)\" )\n",
    "    \n",
    "    Z = model.predict(np.c_[xx.ravel(), yy.ravel()])\n",
    "    Z = Z.reshape(xx.shape)\n",
    "                  \n",
    "    trace1 = go.Heatmap(x=xx[0], y=y_, z=Z,\n",
    "                  colorscale='Viridis',\n",
    "                  showscale=False)\n",
    "\n",
    "    trace2 = go.Scatter(x=X[:, 0], y=X[:, 1], \n",
    "                        mode='markers',\n",
    "                        showlegend=False,\n",
    "                        marker=dict(size=10,\n",
    "                                    color=y, \n",
    "                                    colorscale='Viridis',\n",
    "                                    line=dict(color='black', width=1))\n",
    "                        )\n",
    "\n",
    "    fig.append_trace(trace1, 1, 1)\n",
    "    fig.append_trace(trace2, 1, 1)\n",
    "    \n",
    "\n",
    "\n",
    "    trace3 = go.Heatmap(x=xx[0], y=y_, \n",
    "                        z=Z,\n",
    "                        colorscale='Viridis',\n",
    "                        showscale=True)\n",
    "\n",
    "    trace4 = go.Scatter(x=X[:, 0], y=X[:, 1],\n",
    "                        mode='markers',\n",
    "                        showlegend=False,\n",
    "                        marker=dict(size=10,\n",
    "                                    color=y, \n",
    "                                    colorscale='Viridis',\n",
    "                                    line=dict(color='black', width=1))\n",
    "                       )\n",
    "    fig.append_trace(trace3, 1, 2)\n",
    "    fig.append_trace(trace4, 1, 2)\n",
    "\n",
    "    for i in map(str, range(1, 3)):\n",
    "        x = 'xaxis' + i\n",
    "        y = 'yaxis' + i\n",
    "        fig['layout'][x].update(showgrid=False, \n",
    "                                zeroline=False,\n",
    "                                showticklabels=False, \n",
    "                                ticks='', \n",
    "                                autorange=True)\n",
    "        fig['layout'][y].update(showgrid=False, \n",
    "                                zeroline=False,\n",
    "                                showticklabels=False, \n",
    "                                ticks='', \n",
    "                                autorange=True)\n",
    "\n",
    "    fig.show()"
   ]
  },
  {
   "cell_type": "code",
   "execution_count": null,
   "metadata": {},
   "outputs": [],
   "source": [
    "PlotBoundary(RBFsvm,X_train,y_train)"
   ]
  },
  {
   "cell_type": "code",
   "execution_count": null,
   "metadata": {},
   "outputs": [],
   "source": []
  }
 ],
 "metadata": {
  "kernelspec": {
   "display_name": "Python 3",
   "language": "python",
   "name": "python3"
  },
  "language_info": {
   "codemirror_mode": {
    "name": "ipython",
    "version": 3
   },
   "file_extension": ".py",
   "mimetype": "text/x-python",
   "name": "python",
   "nbconvert_exporter": "python",
   "pygments_lexer": "ipython3",
   "version": "3.8.2"
  }
 },
 "nbformat": 4,
 "nbformat_minor": 4
}
